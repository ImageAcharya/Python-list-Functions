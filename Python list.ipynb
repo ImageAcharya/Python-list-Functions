{
 "cells": [
  {
   "cell_type": "code",
   "execution_count": null,
   "id": "295829aa-39b9-473e-bcf6-ec7f92d7f26d",
   "metadata": {},
   "outputs": [],
   "source": [
    "#1. append()\n",
    "#Adding numbers to the end of the list."
   ]
  },
  {
   "cell_type": "code",
   "execution_count": 1,
   "id": "21ebd154-49a4-4528-afff-e1f3f690bf4c",
   "metadata": {},
   "outputs": [
    {
     "name": "stdout",
     "output_type": "stream",
     "text": [
      "[1, 2, 3, 4]\n"
     ]
    }
   ],
   "source": [
    "numbers = [1, 2, 3]\n",
    "numbers.append(4)\n",
    "print(numbers)  # Output: [1, 2, 3, 4]"
   ]
  },
  {
   "cell_type": "code",
   "execution_count": 2,
   "id": "ac9598da-4041-4c4f-8688-66e203247f92",
   "metadata": {},
   "outputs": [
    {
     "name": "stdout",
     "output_type": "stream",
     "text": [
      "[1, 2, 3, 4, 5, 6]\n"
     ]
    }
   ],
   "source": [
    "#2. extend()\n",
    "#Extending the list by appending elements from another list.\n",
    "\n",
    "numbers = [1, 2, 3]\n",
    "numbers.extend([4, 5, 6])\n",
    "print(numbers)  # Output: [1, 2, 3, 4, 5, 6]"
   ]
  },
  {
   "cell_type": "code",
   "execution_count": 3,
   "id": "af2ff6c5-15c4-4b90-9dc1-f1ac7f7adb99",
   "metadata": {},
   "outputs": [
    {
     "name": "stdout",
     "output_type": "stream",
     "text": [
      "[1, 1.5, 2, 3]\n"
     ]
    }
   ],
   "source": [
    "#3. insert()\n",
    "#Inserting a number at a specified position.\n",
    "\n",
    "numbers = [1, 2, 3]\n",
    "numbers.insert(1, 1.5)\n",
    "print(numbers)  # Output: [1, 1.5, 2, 3]"
   ]
  },
  {
   "cell_type": "code",
   "execution_count": 4,
   "id": "bef7ca50-b431-4bcb-a051-d2e3f89eee6a",
   "metadata": {},
   "outputs": [
    {
     "name": "stdout",
     "output_type": "stream",
     "text": [
      "[1, 3, 2]\n"
     ]
    }
   ],
   "source": [
    "#4. remove()\n",
    "#Removing the first occurrence of a specified number.\n",
    "\n",
    "numbers = [1, 2, 3, 2]\n",
    "numbers.remove(2)\n",
    "print(numbers)  # Output: [1, 3, 2]"
   ]
  },
  {
   "cell_type": "code",
   "execution_count": 5,
   "id": "029cbe6c-9fcf-4fab-aba9-9d48dc4c682e",
   "metadata": {},
   "outputs": [
    {
     "name": "stdout",
     "output_type": "stream",
     "text": [
      "2\n",
      "[1, 3]\n"
     ]
    }
   ],
   "source": [
    "#5. pop()\n",
    "#Removing and returning the number at a specified position.\n",
    "\n",
    "numbers = [1, 2, 3]\n",
    "removed_number = numbers.pop(1)\n",
    "print(removed_number)  # Output: 2\n",
    "print(numbers)         # Output: [1, 3]"
   ]
  },
  {
   "cell_type": "code",
   "execution_count": 6,
   "id": "08ee08bf-a678-4b7c-9aa3-89bb483c129d",
   "metadata": {},
   "outputs": [
    {
     "name": "stdout",
     "output_type": "stream",
     "text": [
      "[]\n"
     ]
    }
   ],
   "source": [
    "#6. clear()\n",
    "#Removing all elements from the list.\n",
    "\n",
    "numbers = [1, 2, 3]\n",
    "numbers.clear()\n",
    "print(numbers)  # Output: []"
   ]
  },
  {
   "cell_type": "code",
   "execution_count": 7,
   "id": "800ec143-b544-4bae-a58f-66d7f2c865bd",
   "metadata": {},
   "outputs": [
    {
     "name": "stdout",
     "output_type": "stream",
     "text": [
      "1\n"
     ]
    }
   ],
   "source": [
    "#7. index()\n",
    "#Finding the index of the first occurrence of a specified number.\n",
    "\n",
    "\n",
    "numbers = [1, 2, 3, 2]\n",
    "index = numbers.index(2)\n",
    "print(index)  # Output: 1"
   ]
  },
  {
   "cell_type": "code",
   "execution_count": 9,
   "id": "16d312a3-9620-4038-885b-6dd84dce3168",
   "metadata": {},
   "outputs": [
    {
     "name": "stdout",
     "output_type": "stream",
     "text": [
      "3\n"
     ]
    }
   ],
   "source": [
    "#8. count()\n",
    "#Counting the number of occurrences of a specified number.\n",
    "\n",
    "numbers = [1, 2, 3, 2, 2]\n",
    "count = numbers.count(2)\n",
    "print(count)  # Output: 3"
   ]
  },
  {
   "cell_type": "code",
   "execution_count": 10,
   "id": "6c1da672-133c-4869-8bf3-3348ea50d574",
   "metadata": {},
   "outputs": [
    {
     "name": "stdout",
     "output_type": "stream",
     "text": [
      "[1, 1, 3, 4, 5, 9]\n"
     ]
    }
   ],
   "source": [
    "#9. sort()\n",
    "#Sorting the list in ascending order.\n",
    "\n",
    "numbers = [3, 1, 4, 1, 5, 9]\n",
    "numbers.sort()\n",
    "print(numbers)  # Output: [1, 1, 3, 4, 5, 9]"
   ]
  },
  {
   "cell_type": "code",
   "execution_count": 11,
   "id": "17201d84-0744-4dc7-891b-6816b5f6544a",
   "metadata": {},
   "outputs": [
    {
     "name": "stdout",
     "output_type": "stream",
     "text": [
      "[3, 2, 1]\n"
     ]
    }
   ],
   "source": [
    "#10. reverse()\n",
    "#Reversing the elements of the list.\n",
    "\n",
    "numbers = [1, 2, 3]\n",
    "numbers.reverse()\n",
    "print(numbers)  # Output: [3, 2, 1]"
   ]
  },
  {
   "cell_type": "code",
   "execution_count": 12,
   "id": "ccc02bfb-9ce6-4d18-b406-806dd1ae71e7",
   "metadata": {},
   "outputs": [
    {
     "name": "stdout",
     "output_type": "stream",
     "text": [
      "[1, 2, 3]\n"
     ]
    }
   ],
   "source": [
    "#11. copy()\n",
    "#Creating a shallow copy of the list.\n",
    "\n",
    "numbers = [1, 2, 3]\n",
    "numbers_copy = numbers.copy()\n",
    "print(numbers_copy)  # Output: [1, 2, 3]"
   ]
  },
  {
   "cell_type": "code",
   "execution_count": 13,
   "id": "2dacc25c-327d-4322-94b1-db1d3a9bee0e",
   "metadata": {},
   "outputs": [
    {
     "name": "stdout",
     "output_type": "stream",
     "text": [
      "3\n"
     ]
    }
   ],
   "source": [
    "#12. len()\n",
    "#Getting the number of elements in the list.\n",
    "\n",
    "numbers = [1, 2, 3]\n",
    "length = len(numbers)\n",
    "print(length)  # Output: 3"
   ]
  },
  {
   "cell_type": "code",
   "execution_count": 14,
   "id": "34ebf858-97f1-4ac5-8851-8b390deccea6",
   "metadata": {},
   "outputs": [
    {
     "name": "stdout",
     "output_type": "stream",
     "text": [
      "[1, 2, 3]\n"
     ]
    }
   ],
   "source": [
    "#13. list()\n",
    "#Creating a list from another iterable (e.g., tuple).\n",
    "\n",
    "tuple_of_numbers = (1, 2, 3)\n",
    "list_of_numbers = list(tuple_of_numbers)\n",
    "print(list_of_numbers)  # Output: [1, 2, 3]"
   ]
  },
  {
   "cell_type": "code",
   "execution_count": 15,
   "id": "fbd39a4d-01b9-43f0-a2a3-1fae0d4f1c6b",
   "metadata": {},
   "outputs": [
    {
     "name": "stdout",
     "output_type": "stream",
     "text": [
      "1\n"
     ]
    }
   ],
   "source": [
    "#14. min()\n",
    "#Finding the smallest number in the list.\n",
    "\n",
    "numbers = [3, 1, 4, 1, 5, 9]\n",
    "minimum = min(numbers)\n",
    "print(minimum)  # Output: 1"
   ]
  },
  {
   "cell_type": "code",
   "execution_count": 16,
   "id": "ffeb98e8-0358-44d2-958d-221622fa77e7",
   "metadata": {},
   "outputs": [
    {
     "name": "stdout",
     "output_type": "stream",
     "text": [
      "9\n"
     ]
    }
   ],
   "source": [
    "#15. max()\n",
    "#Finding the largest number in the list.\n",
    "\n",
    "numbers = [3, 1, 4, 1, 5, 9]\n",
    "maximum = max(numbers)\n",
    "print(maximum)  # Output: 9"
   ]
  },
  {
   "cell_type": "code",
   "execution_count": 17,
   "id": "f766ad4a-ca3d-4914-a180-92a9453722bf",
   "metadata": {},
   "outputs": [
    {
     "name": "stdout",
     "output_type": "stream",
     "text": [
      "23\n"
     ]
    }
   ],
   "source": [
    "#16. sum()\n",
    "#Calculating the sum of all numbers in the list.\n",
    "\n",
    "\n",
    "numbers = [3, 1, 4, 1, 5, 9]\n",
    "total = sum(numbers)\n",
    "print(total)  # Output: 23"
   ]
  },
  {
   "cell_type": "code",
   "execution_count": 18,
   "id": "e80e69e2-39b5-4353-9e21-a42667e6e879",
   "metadata": {},
   "outputs": [
    {
     "name": "stdout",
     "output_type": "stream",
     "text": [
      "[0, 1, 4, 9, 16]\n"
     ]
    }
   ],
   "source": [
    "#17. list comprehension\n",
    "#Creating a list of squares of numbers from 0 to 4.\n",
    "\n",
    "squares = [x**2 for x in range(5)]\n",
    "print(squares)  # Output: [0, 1, 4, 9, 16]"
   ]
  },
  {
   "cell_type": "code",
   "execution_count": 19,
   "id": "42bde484-19cc-41a4-b69c-aff85c64e337",
   "metadata": {},
   "outputs": [
    {
     "name": "stdout",
     "output_type": "stream",
     "text": [
      "Index 0: 10\n",
      "Index 1: 20\n",
      "Index 2: 30\n"
     ]
    }
   ],
   "source": [
    "#18. Iterating Over a List with range\n",
    "\n",
    "numbers = [10, 20, 30]\n",
    "for i in range(len(numbers)):\n",
    "    print(f\"Index {i}: {numbers[i]}\")\n",
    "# Output:\n",
    "# Index 0: 10\n",
    "# Index 1: 20\n",
    "# Index 2: 30"
   ]
  },
  {
   "cell_type": "code",
   "execution_count": null,
   "id": "4b64ae91-dfe2-4552-b8e4-4329755e542e",
   "metadata": {},
   "outputs": [],
   "source": []
  }
 ],
 "metadata": {
  "kernelspec": {
   "display_name": "Python 3 (ipykernel)",
   "language": "python",
   "name": "python3"
  },
  "language_info": {
   "codemirror_mode": {
    "name": "ipython",
    "version": 3
   },
   "file_extension": ".py",
   "mimetype": "text/x-python",
   "name": "python",
   "nbconvert_exporter": "python",
   "pygments_lexer": "ipython3",
   "version": "3.12.3"
  }
 },
 "nbformat": 4,
 "nbformat_minor": 5
}
